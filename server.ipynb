{
 "cells": [
  {
   "metadata": {
    "ExecuteTime": {
     "end_time": "2024-10-31T05:57:53.566879Z",
     "start_time": "2024-10-31T05:57:53.560187Z"
    }
   },
   "cell_type": "code",
   "source": [
    "import sys\n",
    "\n",
    "print(sys.version)"
   ],
   "id": "8f28afde8edf2068",
   "outputs": [
    {
     "name": "stdout",
     "output_type": "stream",
     "text": [
      "3.13.0 (tags/v3.13.0:60403a5, Oct  7 2024, 09:38:07) [MSC v.1941 64 bit (AMD64)]\n"
     ]
    }
   ],
   "execution_count": 1
  },
  {
   "metadata": {
    "ExecuteTime": {
     "end_time": "2024-10-31T05:57:53.915665Z",
     "start_time": "2024-10-31T05:57:53.659828Z"
    }
   },
   "cell_type": "code",
   "source": [
    "from storage import HDF5ImageStorage\n",
    "from Embedding import Embedding\n",
    "import cv2\n",
    "from domain import Image, ProcessedImage\n"
   ],
   "id": "f924c06563dd6db4",
   "outputs": [],
   "execution_count": 2
  },
  {
   "metadata": {
    "ExecuteTime": {
     "end_time": "2024-10-31T05:57:54.168082Z",
     "start_time": "2024-10-31T05:57:54.163705Z"
    }
   },
   "cell_type": "code",
   "source": [
    "storage = HDF5ImageStorage()\n",
    "embedding = Embedding(storage)"
   ],
   "id": "fbfd4faff7679dbe",
   "outputs": [],
   "execution_count": 3
  },
  {
   "metadata": {
    "ExecuteTime": {
     "end_time": "2024-10-31T05:57:54.249889Z",
     "start_time": "2024-10-31T05:57:54.179556Z"
    }
   },
   "cell_type": "code",
   "source": [
    "img = cv2.imread(r\"D:\\current\\lepidicid\\dataset\\train\\img000000.jpg\")\n",
    "pr_img = cv2.imread(r\"D:\\current\\lepidicid\\dataset\\train\\img000025.jpg\")"
   ],
   "id": "7d7ca493-db53-4f32-a2dc-5c6042d60057",
   "outputs": [],
   "execution_count": 4
  },
  {
   "metadata": {
    "ExecuteTime": {
     "end_time": "2024-10-31T05:57:54.267222Z",
     "start_time": "2024-10-31T05:57:54.262696Z"
    }
   },
   "cell_type": "code",
   "source": [
    "image = Image(img)\n",
    "pr_image = ProcessedImage(image, pr_img, 654)"
   ],
   "id": "8cc28c3e085f0a87",
   "outputs": [],
   "execution_count": 5
  },
  {
   "metadata": {
    "ExecuteTime": {
     "end_time": "2024-10-31T05:57:54.288951Z",
     "start_time": "2024-10-31T05:57:54.279857Z"
    }
   },
   "cell_type": "code",
   "source": "image.uuid",
   "id": "8c06411f6f8a0dc0",
   "outputs": [
    {
     "data": {
      "text/plain": [
       "UUID('6410ca95-c87c-44b6-895d-9c165b98a8b7')"
      ]
     },
     "execution_count": 6,
     "metadata": {},
     "output_type": "execute_result"
    }
   ],
   "execution_count": 6
  },
  {
   "metadata": {
    "ExecuteTime": {
     "end_time": "2024-10-31T05:57:54.397268Z",
     "start_time": "2024-10-31T05:57:54.388539Z"
    }
   },
   "cell_type": "code",
   "source": "pr_image.uuid",
   "id": "cd11538aab9f615a",
   "outputs": [
    {
     "data": {
      "text/plain": [
       "UUID('6410ca95-c87c-44b6-895d-9c165b98a8b7')"
      ]
     },
     "execution_count": 7,
     "metadata": {},
     "output_type": "execute_result"
    }
   ],
   "execution_count": 7
  },
  {
   "metadata": {
    "ExecuteTime": {
     "end_time": "2024-10-31T05:57:54.526745Z",
     "start_time": "2024-10-31T05:57:54.519110Z"
    }
   },
   "cell_type": "code",
   "source": "pr_image.count",
   "id": "2c7cf7afa21a98f8",
   "outputs": [
    {
     "data": {
      "text/plain": [
       "654"
      ]
     },
     "execution_count": 8,
     "metadata": {},
     "output_type": "execute_result"
    }
   ],
   "execution_count": 8
  },
  {
   "metadata": {
    "ExecuteTime": {
     "end_time": "2024-10-31T05:57:54.599919Z",
     "start_time": "2024-10-31T05:57:54.587534Z"
    }
   },
   "cell_type": "code",
   "source": [
    "if (image.image != pr_image.image).any():\n",
    "    print(\"Successes\")"
   ],
   "id": "ce967f00dce91544",
   "outputs": [
    {
     "name": "stdout",
     "output_type": "stream",
     "text": [
      "Successes\n"
     ]
    }
   ],
   "execution_count": 9
  },
  {
   "metadata": {
    "ExecuteTime": {
     "end_time": "2024-10-31T05:57:55.109043Z",
     "start_time": "2024-10-31T05:57:54.653727Z"
    }
   },
   "cell_type": "code",
   "source": [
    " with storage as storage:\n",
    "    storage.add_image(image)\n"
   ],
   "id": "811a1a5bd47ad19e",
   "outputs": [
    {
     "ename": "ValueError",
     "evalue": "The image has already been added",
     "output_type": "error",
     "traceback": [
      "\u001B[1;31m---------------------------------------------------------------------------\u001B[0m",
      "\u001B[1;31mValueError\u001B[0m                                Traceback (most recent call last)",
      "Cell \u001B[1;32mIn[10], line 2\u001B[0m\n\u001B[0;32m      1\u001B[0m \u001B[38;5;28;01mwith\u001B[39;00m storage \u001B[38;5;28;01mas\u001B[39;00m storage:\n\u001B[1;32m----> 2\u001B[0m    \u001B[43mstorage\u001B[49m\u001B[38;5;241;43m.\u001B[39;49m\u001B[43madd_image\u001B[49m\u001B[43m(\u001B[49m\u001B[43mimage\u001B[49m\u001B[43m)\u001B[49m\n",
      "File \u001B[1;32mD:\\current\\lepidicid\\server\\storage\\HDF5ImageStorage.py:43\u001B[0m, in \u001B[0;36mHDF5ImageStorage.add_image\u001B[1;34m(self, image)\u001B[0m\n\u001B[0;32m     41\u001B[0m     logger\u001B[38;5;241m.\u001B[39minfo(\u001B[38;5;124mf\u001B[39m\u001B[38;5;124m\"\u001B[39m\u001B[38;5;124mThe image with UUID \u001B[39m\u001B[38;5;132;01m{\u001B[39;00mimage\u001B[38;5;241m.\u001B[39muuid\u001B[38;5;132;01m}\u001B[39;00m\u001B[38;5;124m has been added to the repository.\u001B[39m\u001B[38;5;124m\"\u001B[39m)\n\u001B[0;32m     42\u001B[0m \u001B[38;5;28;01melse\u001B[39;00m:\n\u001B[1;32m---> 43\u001B[0m     \u001B[38;5;28;01mraise\u001B[39;00m \u001B[38;5;167;01mValueError\u001B[39;00m(\u001B[38;5;124mf\u001B[39m\u001B[38;5;124m'\u001B[39m\u001B[38;5;124mThe image has already been added\u001B[39m\u001B[38;5;124m'\u001B[39m)\n",
      "\u001B[1;31mValueError\u001B[0m: The image has already been added"
     ]
    }
   ],
   "execution_count": 10
  },
  {
   "metadata": {
    "ExecuteTime": {
     "end_time": "2024-10-31T05:57:55.139682600Z",
     "start_time": "2024-10-31T05:53:31.347851Z"
    }
   },
   "cell_type": "code",
   "source": [
    " with storage as storage:\n",
    "    storage.add_processed_image(pr_image)"
   ],
   "id": "72a4b867cb4b6bbf",
   "outputs": [
    {
     "ename": "TypeError",
     "evalue": "A name should be string or bytes, not <class 'uuid.UUID'>",
     "output_type": "error",
     "traceback": [
      "\u001B[1;31m---------------------------------------------------------------------------\u001B[0m",
      "\u001B[1;31mTypeError\u001B[0m                                 Traceback (most recent call last)",
      "Cell \u001B[1;32mIn[30], line 2\u001B[0m\n\u001B[0;32m      1\u001B[0m \u001B[38;5;28;01mwith\u001B[39;00m storage \u001B[38;5;28;01mas\u001B[39;00m storage:\n\u001B[1;32m----> 2\u001B[0m            \u001B[43mstorage\u001B[49m\u001B[38;5;241;43m.\u001B[39;49m\u001B[43madd_processed_image\u001B[49m\u001B[43m(\u001B[49m\u001B[43mpr_image\u001B[49m\u001B[43m)\u001B[49m\n",
      "File \u001B[1;32mD:\\current\\lepidicid\\server\\storage\\HDF5ImageStorage.py:62\u001B[0m, in \u001B[0;36mHDF5ImageStorage.add_processed_image\u001B[1;34m(self, image)\u001B[0m\n\u001B[0;32m     61\u001B[0m \u001B[38;5;28;01mdef\u001B[39;00m \u001B[38;5;21madd_processed_image\u001B[39m(\u001B[38;5;28mself\u001B[39m, image: ProcessedImage):\n\u001B[1;32m---> 62\u001B[0m     \u001B[38;5;28;01mif\u001B[39;00m \u001B[43mimage\u001B[49m\u001B[38;5;241;43m.\u001B[39;49m\u001B[43muuid\u001B[49m\u001B[43m \u001B[49m\u001B[38;5;129;43;01min\u001B[39;49;00m\u001B[43m \u001B[49m\u001B[38;5;28;43mself\u001B[39;49m\u001B[38;5;241;43m.\u001B[39;49m\u001B[43mimages_group\u001B[49m:\n\u001B[0;32m     63\u001B[0m         processed_image_dataset \u001B[38;5;241m=\u001B[39m \u001B[38;5;28mself\u001B[39m\u001B[38;5;241m.\u001B[39mprocessed_images_group\u001B[38;5;241m.\u001B[39mcreate_dataset(image\u001B[38;5;241m.\u001B[39muuid,\n\u001B[0;32m     64\u001B[0m                                                                              data\u001B[38;5;241m=\u001B[39mimage\u001B[38;5;241m.\u001B[39mimage)\n\u001B[0;32m     65\u001B[0m         processed_image_dataset\u001B[38;5;241m.\u001B[39mattrs[\u001B[38;5;124m'\u001B[39m\u001B[38;5;124mcount\u001B[39m\u001B[38;5;124m'\u001B[39m] \u001B[38;5;241m=\u001B[39m image\u001B[38;5;241m.\u001B[39mcount\n",
      "File \u001B[1;32mh5py\\\\_objects.pyx:54\u001B[0m, in \u001B[0;36mh5py._objects.with_phil.wrapper\u001B[1;34m()\u001B[0m\n",
      "File \u001B[1;32mh5py\\\\_objects.pyx:55\u001B[0m, in \u001B[0;36mh5py._objects.with_phil.wrapper\u001B[1;34m()\u001B[0m\n",
      "File \u001B[1;32mD:\\current\\lepidicid\\server\\.venv\\Lib\\site-packages\\h5py\\_hl\\group.py:514\u001B[0m, in \u001B[0;36mGroup.__contains__\u001B[1;34m(self, name)\u001B[0m\n\u001B[0;32m    512\u001B[0m     \u001B[38;5;28;01mif\u001B[39;00m \u001B[38;5;129;01mnot\u001B[39;00m \u001B[38;5;28mself\u001B[39m\u001B[38;5;241m.\u001B[39mid:\n\u001B[0;32m    513\u001B[0m         \u001B[38;5;28;01mreturn\u001B[39;00m \u001B[38;5;28;01mFalse\u001B[39;00m\n\u001B[1;32m--> 514\u001B[0m     \u001B[38;5;28;01mreturn\u001B[39;00m h5g\u001B[38;5;241m.\u001B[39m_path_valid(\u001B[38;5;28mself\u001B[39m\u001B[38;5;241m.\u001B[39mid, \u001B[38;5;28;43mself\u001B[39;49m\u001B[38;5;241;43m.\u001B[39;49m\u001B[43m_e\u001B[49m\u001B[43m(\u001B[49m\u001B[43mname\u001B[49m\u001B[43m)\u001B[49m, \u001B[38;5;28mself\u001B[39m\u001B[38;5;241m.\u001B[39m_lapl)\n\u001B[0;32m    515\u001B[0m \u001B[38;5;28;01mreturn\u001B[39;00m \u001B[38;5;28mself\u001B[39m\u001B[38;5;241m.\u001B[39m_e(name) \u001B[38;5;129;01min\u001B[39;00m \u001B[38;5;28mself\u001B[39m\u001B[38;5;241m.\u001B[39mid\n",
      "File \u001B[1;32mD:\\current\\lepidicid\\server\\.venv\\Lib\\site-packages\\h5py\\_hl\\base.py:202\u001B[0m, in \u001B[0;36mCommonStateObject._e\u001B[1;34m(self, name, lcpl)\u001B[0m\n\u001B[0;32m    200\u001B[0m         coding \u001B[38;5;241m=\u001B[39m h5t\u001B[38;5;241m.\u001B[39mCSET_UTF8\n\u001B[0;32m    201\u001B[0m \u001B[38;5;28;01melse\u001B[39;00m:\n\u001B[1;32m--> 202\u001B[0m     \u001B[38;5;28;01mraise\u001B[39;00m \u001B[38;5;167;01mTypeError\u001B[39;00m(\u001B[38;5;124mf\u001B[39m\u001B[38;5;124m\"\u001B[39m\u001B[38;5;124mA name should be string or bytes, not \u001B[39m\u001B[38;5;132;01m{\u001B[39;00m\u001B[38;5;28mtype\u001B[39m(name)\u001B[38;5;132;01m}\u001B[39;00m\u001B[38;5;124m\"\u001B[39m)\n\u001B[0;32m    204\u001B[0m \u001B[38;5;28;01mif\u001B[39;00m lcpl:\n\u001B[0;32m    205\u001B[0m     \u001B[38;5;28;01mreturn\u001B[39;00m name, get_lcpl(coding)\n",
      "\u001B[1;31mTypeError\u001B[0m: A name should be string or bytes, not <class 'uuid.UUID'>"
     ]
    }
   ],
   "execution_count": 30
  },
  {
   "metadata": {},
   "cell_type": "code",
   "outputs": [],
   "execution_count": null,
   "source": "",
   "id": "f5ddd3ec59d31cac"
  }
 ],
 "metadata": {
  "kernelspec": {
   "display_name": "Python 3 (ipykernel)",
   "language": "python",
   "name": "python3"
  },
  "language_info": {
   "codemirror_mode": {
    "name": "ipython",
    "version": 3
   },
   "file_extension": ".py",
   "mimetype": "text/x-python",
   "name": "python",
   "nbconvert_exporter": "python",
   "pygments_lexer": "ipython3",
   "version": "3.13.0"
  }
 },
 "nbformat": 4,
 "nbformat_minor": 5
}
